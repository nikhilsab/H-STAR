{
 "cells": [
  {
   "cell_type": "markdown",
   "metadata": {},
   "source": [
    "Load Dependencies"
   ]
  },
  {
   "cell_type": "code",
   "execution_count": 2,
   "metadata": {},
   "outputs": [],
   "source": [
    "import json\n",
    "from utils.evaluator import Evaluator"
   ]
  },
  {
   "cell_type": "markdown",
   "metadata": {},
   "source": [
    "Load Outputs"
   ]
  },
  {
   "cell_type": "code",
   "execution_count": 3,
   "metadata": {},
   "outputs": [],
   "source": [
    "# Enter the model - llama / gpt / gemini \n",
    "model = \"palm\" \n",
    "# Enter the dataset - tab_fact / wikitq\n",
    "dataset = \"wikitq\"\n",
    "with open(f'results/model_{model}/{dataset}_test_exec_results.json', 'r') as f:\n",
    "    outputs = json.load(f)"
   ]
  },
  {
   "cell_type": "markdown",
   "metadata": {},
   "source": [
    "Evaluate"
   ]
  },
  {
   "cell_type": "code",
   "execution_count": 4,
   "metadata": {},
   "outputs": [
    {
     "name": "stdout",
     "output_type": "stream",
     "text": [
      "Correct Samples: 1; Total Samples: 1\n",
      "Accuracy: 100.00\n"
     ]
    }
   ],
   "source": [
    "# Define accuracy to 0\n",
    "acc =0\n",
    "# Iterate through each output and calculate the accuracy\n",
    "for i in outputs:\n",
    "    try:\n",
    "        output = outputs[str(i)]\n",
    "        if dataset == 'wikitq':\n",
    "            pred_answer = output['generations'][0].split('the answer is: ')[1]\n",
    "            pred_answer = pred_answer.split('\"')[1:2]\n",
    "\n",
    "        elif dataset == 'tab_fact':\n",
    "            pred_answer = output['generations'][0].lower().split('statement is: ')[1].replace(\" \", \"\")\n",
    "            if pred_answer == 'true.' or pred_answer == 'true':\n",
    "                pred_answer = [1]\n",
    "            elif pred_answer == 'false' or pred_answer == 'false.':\n",
    "                pred_answer = [0]\n",
    "\n",
    "        gold_answer = output['ori_data_item']['answer_text']\n",
    "        # Score is either 1 or 0\n",
    "        score = Evaluator().evaluate(\n",
    "        pred_answer,\n",
    "        gold_answer,\n",
    "        dataset=dataset,\n",
    "        question=output['ori_data_item']['question']\n",
    "        )\n",
    "        acc += score\n",
    "    except:\n",
    "        pass\n",
    "print(f\"Correct Samples: {acc}; Total Samples: {len(outputs)}\")\n",
    "print(f\"Accuracy: {100*acc/len(outputs):.2f}\")"
   ]
  }
 ],
 "metadata": {
  "kernelspec": {
   "display_name": "Python 3",
   "language": "python",
   "name": "python3"
  },
  "language_info": {
   "codemirror_mode": {
    "name": "ipython",
    "version": 3
   },
   "file_extension": ".py",
   "mimetype": "text/x-python",
   "name": "python",
   "nbconvert_exporter": "python",
   "pygments_lexer": "ipython3",
   "version": "3.9.7"
  }
 },
 "nbformat": 4,
 "nbformat_minor": 2
}
